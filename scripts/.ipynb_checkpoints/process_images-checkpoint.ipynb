{
 "cells": [
  {
   "cell_type": "markdown",
   "id": "7bf7489a-cb1c-4328-8eea-bb6677a7dc15",
   "metadata": {},
   "source": [
    "# Image Processing and Augmentation\n",
    "\n",
    "This file will walk us through processing our images to be ready train our neural network. Later, we will perform transfer learning with the EfficientNetV2L model (pretrained with ImageNet data). This will guide us in our final size of images to be (224,224,3). If we had images of different size, the model would automatically resize the images to (224,224,3), so in order to save on space, we will reduce all of our images to that size.\n",
    "\n",
    "Also, we will introduce tools for image augmentation, which is the process of creating additional versions of our images. This stretches our limited number of images further and provides regularization (protection against overfitting)."
   ]
  },
  {
   "cell_type": "markdown",
   "id": "5fde8bfb-91bb-4436-a4ca-fa283dc8edd9",
   "metadata": {},
   "source": [
    "## Installs\n",
    "\n",
    "* Pillow (this will be allow us to resize the images)\n",
    "* tensorflow (this will be our deep learning framework)"
   ]
  },
  {
   "cell_type": "markdown",
   "id": "5881e1bd-8c3e-4279-ab0e-d8962aaf621c",
   "metadata": {},
   "source": [
    "## Image Resizing"
   ]
  },
  {
   "cell_type": "code",
   "execution_count": 8,
   "id": "b30b08d0-734a-43c6-9130-23884790d670",
   "metadata": {},
   "outputs": [],
   "source": [
    "from PIL import Image\n",
    "import os, sys\n",
    "\n",
    "path = '../data_tanner_orig/niblet'\n",
    "out_path = '../data/niblet/niblet.gt.'\n",
    "dirs = os.listdir(path)\n",
    "\n",
    "for item in dirs:\n",
    "    if os.path.isfile(path+item):\n",
    "        im = Image.open(path+item)\n",
    "        imResize = im."
   ]
  },
  {
   "cell_type": "code",
   "execution_count": 11,
   "id": "65938c57-d216-4628-9842-f00273e80c7b",
   "metadata": {},
   "outputs": [
    {
     "ename": "FileNotFoundError",
     "evalue": "[Errno 2] No such file or directory: 'C:\\\\Users\\\\gmtanner\\\\Documents\\\\GitHub\\\\CSC380\\\\data_tanner_orig\\\\nibletIMG20240411190427.jpg'",
     "output_type": "error",
     "traceback": [
      "\u001b[1;31m---------------------------------------------------------------------------\u001b[0m",
      "\u001b[1;31mFileNotFoundError\u001b[0m                         Traceback (most recent call last)",
      "Cell \u001b[1;32mIn[11], line 1\u001b[0m\n\u001b[1;32m----> 1\u001b[0m im \u001b[38;5;241m=\u001b[39m \u001b[43mImage\u001b[49m\u001b[38;5;241;43m.\u001b[39;49m\u001b[43mopen\u001b[49m\u001b[43m(\u001b[49m\u001b[43mpath\u001b[49m\u001b[38;5;241;43m+\u001b[39;49m\u001b[43mdirs\u001b[49m\u001b[43m[\u001b[49m\u001b[38;5;241;43m1\u001b[39;49m\u001b[43m]\u001b[49m\u001b[43m)\u001b[49m\n",
      "File \u001b[1;32m~\\anaconda3\\envs\\CS380_final\\Lib\\site-packages\\PIL\\Image.py:3277\u001b[0m, in \u001b[0;36mopen\u001b[1;34m(fp, mode, formats)\u001b[0m\n\u001b[0;32m   3274\u001b[0m     filename \u001b[38;5;241m=\u001b[39m os\u001b[38;5;241m.\u001b[39mpath\u001b[38;5;241m.\u001b[39mrealpath(os\u001b[38;5;241m.\u001b[39mfspath(fp))\n\u001b[0;32m   3276\u001b[0m \u001b[38;5;28;01mif\u001b[39;00m filename:\n\u001b[1;32m-> 3277\u001b[0m     fp \u001b[38;5;241m=\u001b[39m \u001b[43mbuiltins\u001b[49m\u001b[38;5;241;43m.\u001b[39;49m\u001b[43mopen\u001b[49m\u001b[43m(\u001b[49m\u001b[43mfilename\u001b[49m\u001b[43m,\u001b[49m\u001b[43m \u001b[49m\u001b[38;5;124;43m\"\u001b[39;49m\u001b[38;5;124;43mrb\u001b[39;49m\u001b[38;5;124;43m\"\u001b[39;49m\u001b[43m)\u001b[49m\n\u001b[0;32m   3278\u001b[0m     exclusive_fp \u001b[38;5;241m=\u001b[39m \u001b[38;5;28;01mTrue\u001b[39;00m\n\u001b[0;32m   3280\u001b[0m \u001b[38;5;28;01mtry\u001b[39;00m:\n",
      "\u001b[1;31mFileNotFoundError\u001b[0m: [Errno 2] No such file or directory: 'C:\\\\Users\\\\gmtanner\\\\Documents\\\\GitHub\\\\CSC380\\\\data_tanner_orig\\\\nibletIMG20240411190427.jpg'"
     ]
    }
   ],
   "source": [
    "im = Image.open(path+dirs[1])"
   ]
  },
  {
   "cell_type": "code",
   "execution_count": null,
   "id": "a644c128-0495-46ee-b93c-fb117f32d78f",
   "metadata": {},
   "outputs": [],
   "source": []
  }
 ],
 "metadata": {
  "kernelspec": {
   "display_name": "Python 3 (ipykernel)",
   "language": "python",
   "name": "python3"
  },
  "language_info": {
   "codemirror_mode": {
    "name": "ipython",
    "version": 3
   },
   "file_extension": ".py",
   "mimetype": "text/x-python",
   "name": "python",
   "nbconvert_exporter": "python",
   "pygments_lexer": "ipython3",
   "version": "3.11.8"
  }
 },
 "nbformat": 4,
 "nbformat_minor": 5
}
